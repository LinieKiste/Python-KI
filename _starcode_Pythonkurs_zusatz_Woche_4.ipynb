{
 "cells": [
  {
   "cell_type": "markdown",
   "metadata": {},
   "source": [
    "## **<span style=\"color: #7865C6;\">Wiederholung und Ergänzung zur 4. Woche</span>**\n",
    "\n",
    "Zur Wiederholung wollen wir uns nochmal ein paar Eigenschaften von Bibliotheken anschauen. Um eine beliebige Bibliothek aus dem Internet herunterzuladen (in unserem Fall NumPy), können wir den folgenden Befehl ausführen:"
   ]
  },
  {
   "cell_type": "code",
   "execution_count": null,
   "metadata": {},
   "outputs": [],
   "source": [
    "! pip install numpy"
   ]
  },
  {
   "cell_type": "markdown",
   "metadata": {},
   "source": [
    "*pip* ist ein sogenannter *Paketmanager*. Wie ein App-Store auf eurem Handy es euch ermöglicht Apps zu installieren, so kann *pip* euch helfen Bibliotheken für Python zu installieren.\n",
    "\n",
    "Wie wir letzte Woche gelernt haben, kann man eine Bibliothek wie folgt zu einem Programm hinzufügen: "
   ]
  },
  {
   "cell_type": "code",
   "execution_count": null,
   "metadata": {},
   "outputs": [],
   "source": [
    "import numpy as np"
   ]
  },
  {
   "cell_type": "markdown",
   "metadata": {},
   "source": [
    "Hier fügt `import numpy` die Bibliothek zu deinem Programm hinzu. Der Teil `as np` definiert den Kosenamen `np`, damit wir nicht immer den Namen `numpy` ausschreiben müssen. Das Ganze ist zwar nicht notwendig, macht aber unser Leben deutlich einfacher. Wenn wir eine Funktion von einer Bibliothek benutzen, dann müssen wir Python mitteilen, von welcher Bibliothek diese Funktion kommt. Deshalb müssen wir den Namen der Funktion `numpy` bzw. den Kosenamen `np` vor dem Befehl angeben. Wollen wir also die Funktion `add` benutzen, die zwei Zahlen addiert, so können wir diese dann mit `np.add()` benutzen:"
   ]
  },
  {
   "cell_type": "code",
   "execution_count": null,
   "metadata": {},
   "outputs": [],
   "source": [
    "zahl1 = 5\n",
    "zahl2 = 6\n",
    "ergebnis = np.add(zahl1,zahl2)\n",
    "print(zahl1,'+',zahl2,'=',ergebnis)"
   ]
  },
  {
   "cell_type": "markdown",
   "metadata": {},
   "source": [
    "Diese Benennung ist wichtig. Manchmal haben zwei verschiedene Bibliotheken nämlich Funktionen, die genau gleich heißen. Python muss dann wissen, welche benutzt werden soll.\n",
    "\n",
    "Auch wenn wir Bibliotheken mit einer Sammlung von Funktionen vergleichen, so stimmt das eigentlich nur teilweise. Denn der Output von den 'Funktionen' in Bibliotheken kann auch ein *Objekt* sein. Was ist das denn jetzt? Wie im echten Leben haben Objekte in Python auch bestimmte Eigenschaften (in der Fachsprache *Attributes* genannt). So hat ein NumPy Array zum Beispiel eine Größe (in Englisch *size*). Um darauf zuzugreifen, können wir einfach den Namen unseres Arrays nehmen und `.size` anfügen:"
   ]
  },
  {
   "cell_type": "code",
   "execution_count": null,
   "metadata": {},
   "outputs": [],
   "source": [
    "array = np.array([5,2,1,6,4,0,3])\n",
    "\n",
    "print('Das Array hat', array.size, 'Elemente')"
   ]
  },
  {
   "cell_type": "markdown",
   "metadata": {},
   "source": [
    "Um das Beispiel besser zu verstehen, lasst uns die folgende Situation anschauen: Ihr habt eurer Nachbarin angeboten, auf ihre Hunde aufzupassen, während sie unterwegs ist. Eigentlich habt ihr gedacht, dass sie 2 oder 3 Hunde hat. Als ihr aber die Tür zu ihrer Wohnung öffnet, merkt ihr, dass es da ein Missverständnis gab... **SIE HAT 10 HUNDE!?!** Wie sollt ihr die alle auseinanderhalten? \n",
    "\n",
    "Naja... Jeder Hund hat ja besondere Eigenschaften: Name, Alter, Fellfarbe, Größe, ... Würdet ihr also eine Bibliothek benutzen, um euch das alles zu merken, könnte das Ganze so aussehen:\n",
    "```\n",
    "hund1 = dog(name='Maxi', alter=2, fellfarbe='braun', größe='klein') \n",
    "hund2 = dog(name='Rex',  alter=6, fellfarbe='schwarz', größe='groß') \n",
    "...\n",
    "```\n",
    "Wenn ihr jetzt auf die Eigenschaften wieder zugreifen wollt, dann könnt ihr z.B. `hund1.name` ausführen, um 'Maxi' zurückzugeben. Dasselbe haben wir mit unserem Array getan: nach der Definition `array = np.array([5,2,1,6,4,0,3])` hat NumPy uns gleich die Größe ausgerechnet und sie als Eigenschaft gespeichert. Diese können wir dann durch `array.shape` aufgerufen haben.\n",
    "\n",
    "Was für Eigenschaften die Objekte in einer Funktion haben können, seht ihr in der Dokumentation. Für NumPy Arrays seht ihr das Ganze auf: https://numpy.org/doc/stable/reference/generated/numpy.ndarray.html "
   ]
  },
  {
   "cell_type": "markdown",
   "metadata": {},
   "source": [
    "Genauso können diese Objekte aber auch was. Ein Hund (natürlich kein Objekt im herkömmlichen Sinne) kann zum Beispiel bellen. Objekte in Python können auch eigene Funktionen heben, die diese Fähigkeiten definieren (in der Fachsprache *Methods* genannt). Ein Array kann zum Beispiel sortiert werden:"
   ]
  },
  {
   "cell_type": "code",
   "execution_count": null,
   "metadata": {},
   "outputs": [],
   "source": [
    "array.sort()\n",
    "\n",
    "print(array)"
   ]
  },
  {
   "cell_type": "markdown",
   "metadata": {},
   "source": [
    "Anders als bei einer beliebigen Funktion kann somit das Objekt dauerhaft verändert werden. Der Befehl `print(array)` wird uns nun immer ein sortiertes Array zurückgeben. \n",
    "\n",
    "Wenn wir zum Beispiel den Wahrheitswert `gefüttert=False` als eine Eigenschaft der Hunde hinzufügen, so könnte man mit `.füttern()` die Eigenschaft `gefüttert` zu `True` verändern. Hier haben wir auch die Eigenschaft des Objekts verändert, indem wir die Liste sortiert haben. Die Länge ist dabei zum Beispiel unverändert geblieben.\n",
    "\n",
    "Eigenschaften und Methoden unterscheiden sich beim Aufrufen lediglich durch die Klammern `()` und die entsprechenden Parameter, die in die Klammer geschrieben werden können.\n",
    "\n",
    "Wie bei den Eigenschaften, so findet ihr die Methoden für eure Bibliothek auch in der Dokumentation. Für NumPy Arrays ist das Ganze auch hier zu finden: https://numpy.org/doc/stable/reference/generated/numpy.ndarray.html "
   ]
  },
  {
   "cell_type": "markdown",
   "metadata": {},
   "source": [
    "Als Abschluss kommt noch eine kurze Bemerkung zu unserem Thema für diese Stunde: Matplotlib. Wenn wir Matplotlib importiert haben, war unser Code `matplotlib.pyplot`. Du kannst dir Pyplot wie ein Bücherregal in der Bibliothek Matplotlib vorstellen. Neben `matplotlib.pyplot` gibt es dann auch noch andere Regale. Zum Beispiel `matplotlib.animation` um deine Graphen in animierte Videos zu verwandeln, oder `matplotlib.colors` um mehr Kontrolle über die Farben in deinen Plots zu haben. Das geht aber erstmal zu weit. Nun stellt sich noch die Frage: Warum brauchen wir diese Regale? Können wir nicht einfach `matplotlib` importieren und das reicht? Das hat ein paar Gründe. Erstens wird es dadurch einfacher, die Übersicht über all die Funktionen zu behalten. In einer Bibliothek stehen ja immerhin auch nicht alle Bücher auf einem Haufen. Zudem macht es das Ganze ein bisschen effizienter. So muss der Computer nicht die ganze Bibliothek auswendig können, sondern nur den Teil, den wir nutzen. Das Ganze kann sogar noch weiter getrieben werden. Wir können wie folgt von NumPy nur die Funktionen `add`, um Zahlen zu addieren und `subtract` um Zahlen zu subtrahieren importieren:"
   ]
  },
  {
   "cell_type": "code",
   "execution_count": null,
   "metadata": {},
   "outputs": [],
   "source": [
    "from numpy import add, subtract\n",
    "\n",
    "zahl1 = 9\n",
    "zahl2 = 6\n",
    "\n",
    "ergebnis_add = add(zahl1,zahl2)\n",
    "print(zahl1,'+',zahl2,'=', ergebnis_add)\n",
    "\n",
    "ergebnis_sub = subtract(zahl1,zahl2)\n",
    "print(zahl1,'-',zahl2,'=', ergebnis_sub)"
   ]
  },
  {
   "cell_type": "markdown",
   "metadata": {},
   "source": [
    "Hier bedeutet `from ... import ...` also einfach *'Von ... importiere ...'*. Wenn wir so unsere Funktionen importieren, dann müssen wir noch nicht einmal Python sagen, wo diese Funktionen gefunden werden können. Python kennt die Funktionen dann ja schon. Stattdessen können wir einfach den Namen der Funktionen `add()` und `subtract()` benutzen anstelle von `np.add()` und `np.subtract()` oder `numpy.add()` und `numpy.subtract()`. "
   ]
  }
 ],
 "metadata": {
  "kernelspec": {
   "display_name": "Python 3 (ipykernel)",
   "language": "python",
   "name": "python3"
  },
  "language_info": {
   "codemirror_mode": {
    "name": "ipython",
    "version": 3
   },
   "file_extension": ".py",
   "mimetype": "text/x-python",
   "name": "python",
   "nbconvert_exporter": "python",
   "pygments_lexer": "ipython3",
   "version": "3.9.10"
  }
 },
 "nbformat": 4,
 "nbformat_minor": 4
}
